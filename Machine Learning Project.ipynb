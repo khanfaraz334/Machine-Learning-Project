{
 "cells": [
  {
   "cell_type": "code",
   "execution_count": 4,
   "id": "a3310ab8",
   "metadata": {},
   "outputs": [],
   "source": [
    "import matplotlib.pyplot as plt\n",
    "import numpy as np\n",
    "import pandas as pd\n",
    "import nltk\n",
    "import re\n",
    "from nltk.corpus import stopwords\n",
    "from nltk.tokenize import word_tokenize\n",
    "from nltk.stem import WordNetLemmatizer\n",
    "from collections import Counter"
   ]
  },
  {
   "cell_type": "code",
   "execution_count": 5,
   "id": "d3bb6b66",
   "metadata": {},
   "outputs": [],
   "source": [
    "pd.set_option('display.max_colwidth', 2000)\n",
    "\n",
    "df = pd.read_csv('acq.csv')\n",
    "df.columns = [\"index\",\"docs\"]"
   ]
  },
  {
   "cell_type": "code",
   "execution_count": 6,
   "id": "1cc978c4",
   "metadata": {},
   "outputs": [
    {
     "data": {
      "text/html": [
       "<div>\n",
       "<style scoped>\n",
       "    .dataframe tbody tr th:only-of-type {\n",
       "        vertical-align: middle;\n",
       "    }\n",
       "\n",
       "    .dataframe tbody tr th {\n",
       "        vertical-align: top;\n",
       "    }\n",
       "\n",
       "    .dataframe thead th {\n",
       "        text-align: right;\n",
       "    }\n",
       "</style>\n",
       "<table border=\"1\" class=\"dataframe\">\n",
       "  <thead>\n",
       "    <tr style=\"text-align: right;\">\n",
       "      <th></th>\n",
       "      <th>index</th>\n",
       "      <th>docs</th>\n",
       "    </tr>\n",
       "  </thead>\n",
       "  <tbody>\n",
       "    <tr>\n",
       "      <th>0</th>\n",
       "      <td>0</td>\n",
       "      <td>COMPUTER TERMINAL SYSTEMS &amp; lt ; CPML &gt; COMPLETES SALE Computer Terminal Systems Inc said it has completed the sale of 200 , 000 shares of its common stock , and warrants to acquire an additional one mln shares , to &amp; lt ; Sedio N . V .&gt; of Lugano , Switzerland for 50 , 000 dlrs . The company said the warrants are exercisable for five years at a purchase price of . 125 dlrs per share . Computer Terminal said Sedio also has the right to buy additional shares and increase its total holdings up to 40 pct of the Computer Terminal ' s outstanding common stock under certain circumstances involving change of control at the company . The company said if the conditions occur the warrants would be exercisable at a price equal to 75 pct of its common stock ' s market price at the time , not to exceed 1 . 50 dlrs per share . Computer Terminal also said it sold the technolgy rights to its Dot Matrix impact technology , including any future improvements , to &amp; lt ; Woodco Inc &gt; of Houston , Tex . for 200 , 000 dlrs . But , it said it would continue to be the exclusive worldwide licensee of the technology for Woodco . The company said the moves were part of its reorganization plan and would help pay current operation costs and ensure product delivery . Computer Terminal makes computer generated labels , forms , tags and ticket printers and terminals .</td>\n",
       "    </tr>\n",
       "    <tr>\n",
       "      <th>1</th>\n",
       "      <td>1</td>\n",
       "      <td>NATIONAL AMUSEMENTS AGAIN UPS VIACOM &amp; lt ; VIA &gt; BID Viacom International Inc said &amp; lt ; National Amusements Inc &gt; has again raised the value of its offer for Viacom ' s publicly held stock . The company said the special committee of its board plans to meet later today to consider this offer and the one submitted March one by &amp; lt ; MCV Holdings Inc &gt;. A spokeswoman was unable to say if the committee met as planned yesterday . Viacom said National Amusements ' Arsenal Holdings Inc subsidiary has raised the amount of cash it is offering for each Viacom share by 75 cts to 42 . 75 dlrs while the value of the fraction of a share of exchangeable Arsenal Holdings preferred to be included was raised 25 cts to 7 . 75 dlrs . National Amusements already owns 19 . 6 pct of Viacom ' s stock .</td>\n",
       "    </tr>\n",
       "    <tr>\n",
       "      <th>2</th>\n",
       "      <td>2</td>\n",
       "      <td>U . K . GROWING IMPATIENT WITH JAPAN - THATCHER Prime Minister Margaret Thatcher said the U . K . Was growing more impatient with Japanese trade barriers and warned that it would soon have new powers against countries not offering reciprocal access to their markets . She told Parliament that the bid by the U . K .' s Cable and Wireless Plc &amp; lt ; CAWL . L &gt; to enter the Japanese telecommunications market was being regarded by her government as a test case . \" I wrote to the prime minister of Japan , Mr Nakasone , on the fourth of March to express our interest on the Cable and Wireless bid . I have not yet had a reply . We see this as a test on how open the Japanese market really is ,\" Thatcher said . Thatcher told Parliament that \" shortly ... We shall have more powers than we have now , when , for example the powers under the Financial Services Act and the Banking Act become available , then we shall be able to take action in cases where other countries do not offer the same full access to financial services as we do .\" Cable and Wireless is seeking a stake in the proposed Japanese telecommunications rival to Kokusai Denshin Denwa . But the Japanese minister for post and telecommunications was reported as saying that he opposed Cable and Wireless having a managerial role in the new company .</td>\n",
       "    </tr>\n",
       "    <tr>\n",
       "      <th>3</th>\n",
       "      <td>3</td>\n",
       "      <td>GOULD &amp; lt ; GLD &gt; COMPLETES SALE OF FRENCH BATTERY UNIT Gould Inc said it has completed the sale of its French battery business , Compagnie Francaise D ' Electro Chimie , to a group of investors including the unit ' s employees and &amp; lt ; GNB Inc &gt; of Minnesota . Gould did not disclose terms of the deal . Gould said the move is part of its previously announced plan to divest assets unrelated to its computer and electronics businesses .</td>\n",
       "    </tr>\n",
       "    <tr>\n",
       "      <th>4</th>\n",
       "      <td>4</td>\n",
       "      <td>FIRST WISCONSIN &amp; lt ; FWB &gt; TO BUY MINNESOTA BANK First Wisconsin Corp said it plans to acquire Shelard Bancshares Inc for about 25 mln dlrs in cash , its first acquisition of a Minnesota - based bank . First Wisconsin said Shelard is the holding company for two banks with total assets of 168 mln dlrs . First Wisconsin , which had assets at yearend of 7 . 1 billion dlrs , said the Shelard purchase price is about 12 times the 1986 earnings of the bank . It said the two Shelard banks have a total of five offices in the Minneapolis - St . Paul area .</td>\n",
       "    </tr>\n",
       "    <tr>\n",
       "      <th>...</th>\n",
       "      <td>...</td>\n",
       "      <td>...</td>\n",
       "    </tr>\n",
       "    <tr>\n",
       "      <th>1644</th>\n",
       "      <td>1644</td>\n",
       "      <td>USAIR &amp; lt ; U &gt; CLEARED TO BUY PIEDMONT &amp; lt ; PIE &gt; SHARES USAir Group Inc said the U . S . Department of Transportation has issued an order allowing it to purchase and hold in a voting trust the 9 , 309 , 394 Piedmont Aviation Inc shares USAir is seeking in its current 69 dlr per share tender offer . The company said the new order supersedes an order issued by the department last Friday that would have required USAir to sell within one week of expiration of the tender any Piedmont shares it held in excess of 51 pct of the Piedmont stock then outstanding . The company said the 9 , 309 , 394 Piedmont shares , together with the 2 , 292 , 599 Piedmont shares already owned by USAir , constitute about 50 . 1 pct of Piedmont ' s shares on a fully - diluted basius but about 61 . 0 pct of shares currently outstanding . The shares are to be held in a voting trust pending the department ' s review of USAir ' s application to obtain control of Piedmont .</td>\n",
       "    </tr>\n",
       "    <tr>\n",
       "      <th>1645</th>\n",
       "      <td>1645</td>\n",
       "      <td>FOREIGN FIRMS HOPE TO JOIN JAPAN TELECOM COMPANY President Nobuo Ito of International Telecom Japan Inc ( ITJ ), one of two rival firms seeking to enter Japan ' s international telecommunications market , said it will offer a stake in the company to 10 foreign firms . But he declined to specify what share the firms would take , and told Reuters they would not participate in its management . ITJ and International Digital Communications Planning Inc ( IDC ), in which both Cable and Wireless Plc and Pacific Telesis Group own 20 pct stakes , are set to merge into a new entity to compete against Kokusai Denshin Denwa Co Ltd .</td>\n",
       "    </tr>\n",
       "    <tr>\n",
       "      <th>1646</th>\n",
       "      <td>1646</td>\n",
       "      <td>SIEMENS RAISES STAKE IN TELECOM PLUS OF U . S . Siemens AG ' s &amp; lt ; SIEG . F &gt; fully - owned subsidiary Siemens Informations Systems Inc . Has raised its stake in &amp; lt ; Telecom Plus Communications Inc .&gt; by 65 pct to 100 pct , a Siemens spokesman said . He added that Telecom Plus Communications was the largest independent supplier of telephone exchange systems in the U . S . And had turnover of 234 mln dlrs in 1986 . The stake had been acquired from Telecom Plus International Inc . The spokesman declined to comment on U . S . Newspaper reports that the purchase price totalled 173 mln dlrs .</td>\n",
       "    </tr>\n",
       "    <tr>\n",
       "      <th>1647</th>\n",
       "      <td>1647</td>\n",
       "      <td>FIRST INTERSTATE SEEKS ACQUISITION Less than two months after First Interstate Bancorp withdrew its bold attempt to buy BankAmerica Corp , Chairman Joseph Pinola is still looking for a good buy , but he is also looking at ways to avoid being bought . In a wide - ranging interview , Pinola said he ' s looking for ways to improve profitability and capital between now and 1991 , \" so as to resist any potential look at us ... to maintain our independence , if possible .\" In 1991 federal regulatory changes will allow the major East Coast banks to buy banks in California . First Interstate , the fourth largest California bank , and the nineth largest nationwide , owns 24 banks in 12 western states and has franchise operations in four additional states . Bank industry sources say it is an attractive target for large U . S . or foreign banks , looking to quickly move into the lucrative California market and the West Coast region . While declining specifics on his corporate strategy , when asked if acquisitions will be part of the plan , Pinola replied , \" That ' s undoubtedly a fair statement ... it would be almost naive not to think that .\" Pinola characterized his acquisition strategy as \" opportunistic \". He said he will look for banks in management trouble that he can get at a bargain , then add management to restore profitability , or for banks in states where First Interstate already operates , then cut costs by combining resources . The exception , he said , would be Texas , where he said most of the banks are already well managed , but might be purchased at a discount because of the depressed regional economy . Pinola declined comment on what circumstances might move him to rekindle his bid for BankAmerica , saying only , \" We continue to monitor and look at a lot of things and a lot of people continue to monitor and look at us .\" Banking analysts , however , consider another First Interstate bid at BankAmerica a long shot , not likely to happen any time soon . ...</td>\n",
       "    </tr>\n",
       "    <tr>\n",
       "      <th>1648</th>\n",
       "      <td>1648</td>\n",
       "      <td>KODAK &amp; lt ; EK &gt; BUYS STAKE IN BIOTECHNOLOGY COMPANY Eastman Kodak Co said it has reached an agreement to acquire new stock representing a 16 pct interest in industrial biotechnology company &amp; lt ; Genencor Inc &gt; for undisclosed terms . Other Genencor shareholders include Staley Continental Inc &amp; lt ; STA &gt;, Corning Glass Works &amp; lt ; GLW &gt; and Genentech Inc &amp; lt ; GENE &gt;. The company said it has been granted options to increase its equity stake during 1987 . It said it has agreed to make a multiyear , multimillion dollar commitment to Genecor research products related to food additivies and pharmaceutical intermediates .</td>\n",
       "    </tr>\n",
       "  </tbody>\n",
       "</table>\n",
       "<p>1649 rows × 2 columns</p>\n",
       "</div>"
      ],
      "text/plain": [
       "      index  \\\n",
       "0         0   \n",
       "1         1   \n",
       "2         2   \n",
       "3         3   \n",
       "4         4   \n",
       "...     ...   \n",
       "1644   1644   \n",
       "1645   1645   \n",
       "1646   1646   \n",
       "1647   1647   \n",
       "1648   1648   \n",
       "\n",
       "                                                                                                                                                                                                                                                                                                                                                                                                                                                                                                                                                                                                                                                                                                                                                                                                                                                                                                                                                                                                                                                                                                                                                                                                                                                                                                                                                                                                                                                                                                                                                                                                                                                                                                                                                                                                                                                                                                                                                                                                                                                                                 docs  \n",
       "0                                                                                                                                                                                                                                                                                                                                                                                                                                                                                                                                                                                                                                                                      COMPUTER TERMINAL SYSTEMS & lt ; CPML > COMPLETES SALE Computer Terminal Systems Inc said it has completed the sale of 200 , 000 shares of its common stock , and warrants to acquire an additional one mln shares , to & lt ; Sedio N . V .> of Lugano , Switzerland for 50 , 000 dlrs . The company said the warrants are exercisable for five years at a purchase price of . 125 dlrs per share . Computer Terminal said Sedio also has the right to buy additional shares and increase its total holdings up to 40 pct of the Computer Terminal ' s outstanding common stock under certain circumstances involving change of control at the company . The company said if the conditions occur the warrants would be exercisable at a price equal to 75 pct of its common stock ' s market price at the time , not to exceed 1 . 50 dlrs per share . Computer Terminal also said it sold the technolgy rights to its Dot Matrix impact technology , including any future improvements , to & lt ; Woodco Inc > of Houston , Tex . for 200 , 000 dlrs . But , it said it would continue to be the exclusive worldwide licensee of the technology for Woodco . The company said the moves were part of its reorganization plan and would help pay current operation costs and ensure product delivery . Computer Terminal makes computer generated labels , forms , tags and ticket printers and terminals .  \n",
       "1                                                                                                                                                                                                                                                                                                                                                                                                                                                                                                                                                                                                                                                                                                                                                                                                                                                                                                                                                                                                                                                                                                                                                                                                                                                           NATIONAL AMUSEMENTS AGAIN UPS VIACOM & lt ; VIA > BID Viacom International Inc said & lt ; National Amusements Inc > has again raised the value of its offer for Viacom ' s publicly held stock . The company said the special committee of its board plans to meet later today to consider this offer and the one submitted March one by & lt ; MCV Holdings Inc >. A spokeswoman was unable to say if the committee met as planned yesterday . Viacom said National Amusements ' Arsenal Holdings Inc subsidiary has raised the amount of cash it is offering for each Viacom share by 75 cts to 42 . 75 dlrs while the value of the fraction of a share of exchangeable Arsenal Holdings preferred to be included was raised 25 cts to 7 . 75 dlrs . National Amusements already owns 19 . 6 pct of Viacom ' s stock .  \n",
       "2                                                                                                                                                                                                                                                                                                                                                                                                                                                                                                                                                                                                                                                                                                                   U . K . GROWING IMPATIENT WITH JAPAN - THATCHER Prime Minister Margaret Thatcher said the U . K . Was growing more impatient with Japanese trade barriers and warned that it would soon have new powers against countries not offering reciprocal access to their markets . She told Parliament that the bid by the U . K .' s Cable and Wireless Plc & lt ; CAWL . L > to enter the Japanese telecommunications market was being regarded by her government as a test case . \" I wrote to the prime minister of Japan , Mr Nakasone , on the fourth of March to express our interest on the Cable and Wireless bid . I have not yet had a reply . We see this as a test on how open the Japanese market really is ,\" Thatcher said . Thatcher told Parliament that \" shortly ... We shall have more powers than we have now , when , for example the powers under the Financial Services Act and the Banking Act become available , then we shall be able to take action in cases where other countries do not offer the same full access to financial services as we do .\" Cable and Wireless is seeking a stake in the proposed Japanese telecommunications rival to Kokusai Denshin Denwa . But the Japanese minister for post and telecommunications was reported as saying that he opposed Cable and Wireless having a managerial role in the new company .  \n",
       "3                                                                                                                                                                                                                                                                                                                                                                                                                                                                                                                                                                                                                                                                                                                                                                                                                                                                                                                                                                                                                                                                                                                                                                                                                                                                                                                                                                                                                                                                                                                                                                                                                            GOULD & lt ; GLD > COMPLETES SALE OF FRENCH BATTERY UNIT Gould Inc said it has completed the sale of its French battery business , Compagnie Francaise D ' Electro Chimie , to a group of investors including the unit ' s employees and & lt ; GNB Inc > of Minnesota . Gould did not disclose terms of the deal . Gould said the move is part of its previously announced plan to divest assets unrelated to its computer and electronics businesses .  \n",
       "4                                                                                                                                                                                                                                                                                                                                                                                                                                                                                                                                                                                                                                                                                                                                                                                                                                                                                                                                                                                                                                                                                                                                                                                                                                                                                                                                                                                                                                                                                                          FIRST WISCONSIN & lt ; FWB > TO BUY MINNESOTA BANK First Wisconsin Corp said it plans to acquire Shelard Bancshares Inc for about 25 mln dlrs in cash , its first acquisition of a Minnesota - based bank . First Wisconsin said Shelard is the holding company for two banks with total assets of 168 mln dlrs . First Wisconsin , which had assets at yearend of 7 . 1 billion dlrs , said the Shelard purchase price is about 12 times the 1986 earnings of the bank . It said the two Shelard banks have a total of five offices in the Minneapolis - St . Paul area .  \n",
       "...                                                                                                                                                                                                                                                                                                                                                                                                                                                                                                                                                                                                                                                                                                                                                                                                                                                                                                                                                                                                                                                                                                                                                                                                                                                                                                                                                                                                                                                                                                                                                                                                                                                                                                                                                                                                                                                                                                                                                                                                                                                                               ...  \n",
       "1644                                                                                                                                                                                                                                                                                                                                                                                                                                                                                                                                                                                                                                                                                                                                                                                                                                                                                                                                                                                                                                                                                  USAIR & lt ; U > CLEARED TO BUY PIEDMONT & lt ; PIE > SHARES USAir Group Inc said the U . S . Department of Transportation has issued an order allowing it to purchase and hold in a voting trust the 9 , 309 , 394 Piedmont Aviation Inc shares USAir is seeking in its current 69 dlr per share tender offer . The company said the new order supersedes an order issued by the department last Friday that would have required USAir to sell within one week of expiration of the tender any Piedmont shares it held in excess of 51 pct of the Piedmont stock then outstanding . The company said the 9 , 309 , 394 Piedmont shares , together with the 2 , 292 , 599 Piedmont shares already owned by USAir , constitute about 50 . 1 pct of Piedmont ' s shares on a fully - diluted basius but about 61 . 0 pct of shares currently outstanding . The shares are to be held in a voting trust pending the department ' s review of USAir ' s application to obtain control of Piedmont .  \n",
       "1645                                                                                                                                                                                                                                                                                                                                                                                                                                                                                                                                                                                                                                                                                                                                                                                                                                                                                                                                                                                                                                                                                                                                                                                                                                                                                                                                                                                                                             FOREIGN FIRMS HOPE TO JOIN JAPAN TELECOM COMPANY President Nobuo Ito of International Telecom Japan Inc ( ITJ ), one of two rival firms seeking to enter Japan ' s international telecommunications market , said it will offer a stake in the company to 10 foreign firms . But he declined to specify what share the firms would take , and told Reuters they would not participate in its management . ITJ and International Digital Communications Planning Inc ( IDC ), in which both Cable and Wireless Plc and Pacific Telesis Group own 20 pct stakes , are set to merge into a new entity to compete against Kokusai Denshin Denwa Co Ltd .  \n",
       "1646                                                                                                                                                                                                                                                                                                                                                                                                                                                                                                                                                                                                                                                                                                                                                                                                                                                                                                                                                                                                                                                                                                                                                                                                                                                                                                                                                                                                                                                         SIEMENS RAISES STAKE IN TELECOM PLUS OF U . S . Siemens AG ' s & lt ; SIEG . F > fully - owned subsidiary Siemens Informations Systems Inc . Has raised its stake in & lt ; Telecom Plus Communications Inc .> by 65 pct to 100 pct , a Siemens spokesman said . He added that Telecom Plus Communications was the largest independent supplier of telephone exchange systems in the U . S . And had turnover of 234 mln dlrs in 1986 . The stake had been acquired from Telecom Plus International Inc . The spokesman declined to comment on U . S . Newspaper reports that the purchase price totalled 173 mln dlrs .  \n",
       "1647  FIRST INTERSTATE SEEKS ACQUISITION Less than two months after First Interstate Bancorp withdrew its bold attempt to buy BankAmerica Corp , Chairman Joseph Pinola is still looking for a good buy , but he is also looking at ways to avoid being bought . In a wide - ranging interview , Pinola said he ' s looking for ways to improve profitability and capital between now and 1991 , \" so as to resist any potential look at us ... to maintain our independence , if possible .\" In 1991 federal regulatory changes will allow the major East Coast banks to buy banks in California . First Interstate , the fourth largest California bank , and the nineth largest nationwide , owns 24 banks in 12 western states and has franchise operations in four additional states . Bank industry sources say it is an attractive target for large U . S . or foreign banks , looking to quickly move into the lucrative California market and the West Coast region . While declining specifics on his corporate strategy , when asked if acquisitions will be part of the plan , Pinola replied , \" That ' s undoubtedly a fair statement ... it would be almost naive not to think that .\" Pinola characterized his acquisition strategy as \" opportunistic \". He said he will look for banks in management trouble that he can get at a bargain , then add management to restore profitability , or for banks in states where First Interstate already operates , then cut costs by combining resources . The exception , he said , would be Texas , where he said most of the banks are already well managed , but might be purchased at a discount because of the depressed regional economy . Pinola declined comment on what circumstances might move him to rekindle his bid for BankAmerica , saying only , \" We continue to monitor and look at a lot of things and a lot of people continue to monitor and look at us .\" Banking analysts , however , consider another First Interstate bid at BankAmerica a long shot , not likely to happen any time soon . ...  \n",
       "1648                                                                                                                                                                                                                                                                                                                                                                                                                                                                                                                                                                                                                                                                                                                                                                                                                                                                                                                                                                                                                                                                                                                                                                                                                                                                                                                                                                                                                           KODAK & lt ; EK > BUYS STAKE IN BIOTECHNOLOGY COMPANY Eastman Kodak Co said it has reached an agreement to acquire new stock representing a 16 pct interest in industrial biotechnology company & lt ; Genencor Inc > for undisclosed terms . Other Genencor shareholders include Staley Continental Inc & lt ; STA >, Corning Glass Works & lt ; GLW > and Genentech Inc & lt ; GENE >. The company said it has been granted options to increase its equity stake during 1987 . It said it has agreed to make a multiyear , multimillion dollar commitment to Genecor research products related to food additivies and pharmaceutical intermediates .  \n",
       "\n",
       "[1649 rows x 2 columns]"
      ]
     },
     "execution_count": 6,
     "metadata": {},
     "output_type": "execute_result"
    }
   ],
   "source": [
    "df"
   ]
  },
  {
   "cell_type": "code",
   "execution_count": 7,
   "id": "6f564109",
   "metadata": {},
   "outputs": [
    {
     "data": {
      "text/html": [
       "<div>\n",
       "<style scoped>\n",
       "    .dataframe tbody tr th:only-of-type {\n",
       "        vertical-align: middle;\n",
       "    }\n",
       "\n",
       "    .dataframe tbody tr th {\n",
       "        vertical-align: top;\n",
       "    }\n",
       "\n",
       "    .dataframe thead th {\n",
       "        text-align: right;\n",
       "    }\n",
       "</style>\n",
       "<table border=\"1\" class=\"dataframe\">\n",
       "  <thead>\n",
       "    <tr style=\"text-align: right;\">\n",
       "      <th></th>\n",
       "      <th>index</th>\n",
       "      <th>docs</th>\n",
       "      <th>processed_docs</th>\n",
       "    </tr>\n",
       "  </thead>\n",
       "  <tbody>\n",
       "    <tr>\n",
       "      <th>0</th>\n",
       "      <td>0</td>\n",
       "      <td>COMPUTER TERMINAL SYSTEMS &amp; lt ; CPML &gt; COMPLETES SALE Computer Terminal Systems Inc said it has completed the sale of 200 , 000 shares of its common stock , and warrants to acquire an additional one mln shares , to &amp; lt ; Sedio N . V .&gt; of Lugano , Switzerland for 50 , 000 dlrs . The company said the warrants are exercisable for five years at a purchase price of . 125 dlrs per share . Computer Terminal said Sedio also has the right to buy additional shares and increase its total holdings up to 40 pct of the Computer Terminal ' s outstanding common stock under certain circumstances involving change of control at the company . The company said if the conditions occur the warrants would be exercisable at a price equal to 75 pct of its common stock ' s market price at the time , not to exceed 1 . 50 dlrs per share . Computer Terminal also said it sold the technolgy rights to its Dot Matrix impact technology , including any future improvements , to &amp; lt ; Woodco Inc &gt; of Houston , Tex . for 200 , 000 dlrs . But , it said it would continue to be the exclusive worldwide licensee of the technology for Woodco . The company said the moves were part of its reorganization plan and would help pay current operation costs and ensure product delivery . Computer Terminal makes computer generated labels , forms , tags and ticket printers and terminals .</td>\n",
       "      <td>computer terminal systems  lt  cpml  completes sale computer terminal systems inc said it has completed the sale of 200  000 shares of its common stock  and warrants to acquire an additional one mln shares  to  lt  sedio n  v  of lugano  switzerland for 50  000 dlrs  the company said the warrants are exercisable for five years at a purchase price of  125 dlrs per share  computer terminal said sedio also has the right to buy additional shares and increase its total holdings up to 40 pct of the computer terminal  s outstanding common stock under certain circumstances involving change of control at the company  the company said if the conditions occur the warrants would be exercisable at a price equal to 75 pct of its common stock  s market price at the time  not to exceed 1  50 dlrs per share  computer terminal also said it sold the technolgy rights to its dot matrix impact technology  including any future improvements  to  lt  woodco inc  of houston  tex  for 200  000 dlrs  but  it said it would continue to be the exclusive worldwide licensee of the technology for woodco  the company said the moves were part of its reorganization plan and would help pay current operation costs and ensure product delivery  computer terminal makes computer generated labels  forms  tags and ticket printers and terminals</td>\n",
       "    </tr>\n",
       "    <tr>\n",
       "      <th>1</th>\n",
       "      <td>1</td>\n",
       "      <td>NATIONAL AMUSEMENTS AGAIN UPS VIACOM &amp; lt ; VIA &gt; BID Viacom International Inc said &amp; lt ; National Amusements Inc &gt; has again raised the value of its offer for Viacom ' s publicly held stock . The company said the special committee of its board plans to meet later today to consider this offer and the one submitted March one by &amp; lt ; MCV Holdings Inc &gt;. A spokeswoman was unable to say if the committee met as planned yesterday . Viacom said National Amusements ' Arsenal Holdings Inc subsidiary has raised the amount of cash it is offering for each Viacom share by 75 cts to 42 . 75 dlrs while the value of the fraction of a share of exchangeable Arsenal Holdings preferred to be included was raised 25 cts to 7 . 75 dlrs . National Amusements already owns 19 . 6 pct of Viacom ' s stock .</td>\n",
       "      <td>national amusements again ups viacom  lt  via  bid viacom international inc said  lt  national amusements inc  has again raised the value of its offer for viacom  s publicly held stock  the company said the special committee of its board plans to meet later today to consider this offer and the one submitted march one by  lt  mcv holdings inc  a spokeswoman was unable to say if the committee met as planned yesterday  viacom said national amusements  arsenal holdings inc subsidiary has raised the amount of cash it is offering for each viacom share by 75 cts to 42  75 dlrs while the value of the fraction of a share of exchangeable arsenal holdings preferred to be included was raised 25 cts to 7  75 dlrs  national amusements already owns 19  6 pct of viacom  s stock</td>\n",
       "    </tr>\n",
       "    <tr>\n",
       "      <th>2</th>\n",
       "      <td>2</td>\n",
       "      <td>U . K . GROWING IMPATIENT WITH JAPAN - THATCHER Prime Minister Margaret Thatcher said the U . K . Was growing more impatient with Japanese trade barriers and warned that it would soon have new powers against countries not offering reciprocal access to their markets . She told Parliament that the bid by the U . K .' s Cable and Wireless Plc &amp; lt ; CAWL . L &gt; to enter the Japanese telecommunications market was being regarded by her government as a test case . \" I wrote to the prime minister of Japan , Mr Nakasone , on the fourth of March to express our interest on the Cable and Wireless bid . I have not yet had a reply . We see this as a test on how open the Japanese market really is ,\" Thatcher said . Thatcher told Parliament that \" shortly ... We shall have more powers than we have now , when , for example the powers under the Financial Services Act and the Banking Act become available , then we shall be able to take action in cases where other countries do not offer the same full access to financial services as we do .\" Cable and Wireless is seeking a stake in the proposed Japanese telecommunications rival to Kokusai Denshin Denwa . But the Japanese minister for post and telecommunications was reported as saying that he opposed Cable and Wireless having a managerial role in the new company .</td>\n",
       "      <td>u  k  growing impatient with japan  thatcher prime minister margaret thatcher said the u  k  was growing more impatient with japanese trade barriers and warned that it would soon have new powers against countries not offering reciprocal access to their markets  she told parliament that the bid by the u  k  s cable and wireless plc  lt  cawl  l  to enter the japanese telecommunications market was being regarded by her government as a test case   i wrote to the prime minister of japan  mr nakasone  on the fourth of march to express our interest on the cable and wireless bid  i have not yet had a reply  we see this as a test on how open the japanese market really is  thatcher said  thatcher told parliament that  shortly  we shall have more powers than we have now  when  for example the powers under the financial services act and the banking act become available  then we shall be able to take action in cases where other countries do not offer the same full access to financial services as we do  cable and wireless is seeking a stake in the proposed japanese telecommunications rival to kokusai denshin denwa  but the japanese minister for post and telecommunications was reported as saying that he opposed cable and wireless having a managerial role in the new company</td>\n",
       "    </tr>\n",
       "    <tr>\n",
       "      <th>3</th>\n",
       "      <td>3</td>\n",
       "      <td>GOULD &amp; lt ; GLD &gt; COMPLETES SALE OF FRENCH BATTERY UNIT Gould Inc said it has completed the sale of its French battery business , Compagnie Francaise D ' Electro Chimie , to a group of investors including the unit ' s employees and &amp; lt ; GNB Inc &gt; of Minnesota . Gould did not disclose terms of the deal . Gould said the move is part of its previously announced plan to divest assets unrelated to its computer and electronics businesses .</td>\n",
       "      <td>gould  lt  gld  completes sale of french battery unit gould inc said it has completed the sale of its french battery business  compagnie francaise d  electro chimie  to a group of investors including the unit  s employees and  lt  gnb inc  of minnesota  gould did not disclose terms of the deal  gould said the move is part of its previously announced plan to divest assets unrelated to its computer and electronics businesses</td>\n",
       "    </tr>\n",
       "    <tr>\n",
       "      <th>4</th>\n",
       "      <td>4</td>\n",
       "      <td>FIRST WISCONSIN &amp; lt ; FWB &gt; TO BUY MINNESOTA BANK First Wisconsin Corp said it plans to acquire Shelard Bancshares Inc for about 25 mln dlrs in cash , its first acquisition of a Minnesota - based bank . First Wisconsin said Shelard is the holding company for two banks with total assets of 168 mln dlrs . First Wisconsin , which had assets at yearend of 7 . 1 billion dlrs , said the Shelard purchase price is about 12 times the 1986 earnings of the bank . It said the two Shelard banks have a total of five offices in the Minneapolis - St . Paul area .</td>\n",
       "      <td>first wisconsin  lt  fwb  to buy minnesota bank first wisconsin corp said it plans to acquire shelard bancshares inc for about 25 mln dlrs in cash  its first acquisition of a minnesota  based bank  first wisconsin said shelard is the holding company for two banks with total assets of 168 mln dlrs  first wisconsin  which had assets at yearend of 7  1 billion dlrs  said the shelard purchase price is about 12 times the 1986 earnings of the bank  it said the two shelard banks have a total of five offices in the minneapolis  st  paul area</td>\n",
       "    </tr>\n",
       "    <tr>\n",
       "      <th>...</th>\n",
       "      <td>...</td>\n",
       "      <td>...</td>\n",
       "      <td>...</td>\n",
       "    </tr>\n",
       "    <tr>\n",
       "      <th>1644</th>\n",
       "      <td>1644</td>\n",
       "      <td>USAIR &amp; lt ; U &gt; CLEARED TO BUY PIEDMONT &amp; lt ; PIE &gt; SHARES USAir Group Inc said the U . S . Department of Transportation has issued an order allowing it to purchase and hold in a voting trust the 9 , 309 , 394 Piedmont Aviation Inc shares USAir is seeking in its current 69 dlr per share tender offer . The company said the new order supersedes an order issued by the department last Friday that would have required USAir to sell within one week of expiration of the tender any Piedmont shares it held in excess of 51 pct of the Piedmont stock then outstanding . The company said the 9 , 309 , 394 Piedmont shares , together with the 2 , 292 , 599 Piedmont shares already owned by USAir , constitute about 50 . 1 pct of Piedmont ' s shares on a fully - diluted basius but about 61 . 0 pct of shares currently outstanding . The shares are to be held in a voting trust pending the department ' s review of USAir ' s application to obtain control of Piedmont .</td>\n",
       "      <td>usair  lt  u  cleared to buy piedmont  lt  pie  shares usair group inc said the u  s  department of transportation has issued an order allowing it to purchase and hold in a voting trust the 9  309  394 piedmont aviation inc shares usair is seeking in its current 69 dlr per share tender offer  the company said the new order supersedes an order issued by the department last friday that would have required usair to sell within one week of expiration of the tender any piedmont shares it held in excess of 51 pct of the piedmont stock then outstanding  the company said the 9  309  394 piedmont shares  together with the 2  292  599 piedmont shares already owned by usair  constitute about 50  1 pct of piedmont  s shares on a fully  diluted basius but about 61  0 pct of shares currently outstanding  the shares are to be held in a voting trust pending the department  s review of usair  s application to obtain control of piedmont</td>\n",
       "    </tr>\n",
       "    <tr>\n",
       "      <th>1645</th>\n",
       "      <td>1645</td>\n",
       "      <td>FOREIGN FIRMS HOPE TO JOIN JAPAN TELECOM COMPANY President Nobuo Ito of International Telecom Japan Inc ( ITJ ), one of two rival firms seeking to enter Japan ' s international telecommunications market , said it will offer a stake in the company to 10 foreign firms . But he declined to specify what share the firms would take , and told Reuters they would not participate in its management . ITJ and International Digital Communications Planning Inc ( IDC ), in which both Cable and Wireless Plc and Pacific Telesis Group own 20 pct stakes , are set to merge into a new entity to compete against Kokusai Denshin Denwa Co Ltd .</td>\n",
       "      <td>foreign firms hope to join japan telecom company president nobuo ito of international telecom japan inc  itj  one of two rival firms seeking to enter japan  s international telecommunications market  said it will offer a stake in the company to 10 foreign firms  but he declined to specify what share the firms would take  and told reuters they would not participate in its management  itj and international digital communications planning inc  idc  in which both cable and wireless plc and pacific telesis group own 20 pct stakes  are set to merge into a new entity to compete against kokusai denshin denwa co ltd</td>\n",
       "    </tr>\n",
       "    <tr>\n",
       "      <th>1646</th>\n",
       "      <td>1646</td>\n",
       "      <td>SIEMENS RAISES STAKE IN TELECOM PLUS OF U . S . Siemens AG ' s &amp; lt ; SIEG . F &gt; fully - owned subsidiary Siemens Informations Systems Inc . Has raised its stake in &amp; lt ; Telecom Plus Communications Inc .&gt; by 65 pct to 100 pct , a Siemens spokesman said . He added that Telecom Plus Communications was the largest independent supplier of telephone exchange systems in the U . S . And had turnover of 234 mln dlrs in 1986 . The stake had been acquired from Telecom Plus International Inc . The spokesman declined to comment on U . S . Newspaper reports that the purchase price totalled 173 mln dlrs .</td>\n",
       "      <td>siemens raises stake in telecom plus of u  s  siemens ag  s  lt  sieg  f  fully  owned subsidiary siemens informations systems inc  has raised its stake in  lt  telecom plus communications inc  by 65 pct to 100 pct  a siemens spokesman said  he added that telecom plus communications was the largest independent supplier of telephone exchange systems in the u  s  and had turnover of 234 mln dlrs in 1986  the stake had been acquired from telecom plus international inc  the spokesman declined to comment on u  s  newspaper reports that the purchase price totalled 173 mln dlrs</td>\n",
       "    </tr>\n",
       "    <tr>\n",
       "      <th>1647</th>\n",
       "      <td>1647</td>\n",
       "      <td>FIRST INTERSTATE SEEKS ACQUISITION Less than two months after First Interstate Bancorp withdrew its bold attempt to buy BankAmerica Corp , Chairman Joseph Pinola is still looking for a good buy , but he is also looking at ways to avoid being bought . In a wide - ranging interview , Pinola said he ' s looking for ways to improve profitability and capital between now and 1991 , \" so as to resist any potential look at us ... to maintain our independence , if possible .\" In 1991 federal regulatory changes will allow the major East Coast banks to buy banks in California . First Interstate , the fourth largest California bank , and the nineth largest nationwide , owns 24 banks in 12 western states and has franchise operations in four additional states . Bank industry sources say it is an attractive target for large U . S . or foreign banks , looking to quickly move into the lucrative California market and the West Coast region . While declining specifics on his corporate strategy , when asked if acquisitions will be part of the plan , Pinola replied , \" That ' s undoubtedly a fair statement ... it would be almost naive not to think that .\" Pinola characterized his acquisition strategy as \" opportunistic \". He said he will look for banks in management trouble that he can get at a bargain , then add management to restore profitability , or for banks in states where First Interstate already operates , then cut costs by combining resources . The exception , he said , would be Texas , where he said most of the banks are already well managed , but might be purchased at a discount because of the depressed regional economy . Pinola declined comment on what circumstances might move him to rekindle his bid for BankAmerica , saying only , \" We continue to monitor and look at a lot of things and a lot of people continue to monitor and look at us .\" Banking analysts , however , consider another First Interstate bid at BankAmerica a long shot , not likely to happen any time soon . ...</td>\n",
       "      <td>first interstate seeks acquisition less than two months after first interstate bancorp withdrew its bold attempt to buy bankamerica corp  chairman joseph pinola is still looking for a good buy  but he is also looking at ways to avoid being bought  in a wide  ranging interview  pinola said he  s looking for ways to improve profitability and capital between now and 1991   so as to resist any potential look at us  to maintain our independence  if possible  in 1991 federal regulatory changes will allow the major east coast banks to buy banks in california  first interstate  the fourth largest california bank  and the nineth largest nationwide  owns 24 banks in 12 western states and has franchise operations in four additional states  bank industry sources say it is an attractive target for large u  s  or foreign banks  looking to quickly move into the lucrative california market and the west coast region  while declining specifics on his corporate strategy  when asked if acquisitions will be part of the plan  pinola replied   that  s undoubtedly a fair statement  it would be almost naive not to think that  pinola characterized his acquisition strategy as  opportunistic  he said he will look for banks in management trouble that he can get at a bargain  then add management to restore profitability  or for banks in states where first interstate already operates  then cut costs by combining resources  the exception  he said  would be texas  where he said most of the banks are already well managed  but might be purchased at a discount because of the depressed regional economy  pinola declined comment on what circumstances might move him to rekindle his bid for bankamerica  saying only   we continue to monitor and look at a lot of things and a lot of people continue to monitor and look at us  banking analysts  however  consider another first interstate bid at bankamerica a long shot  not likely to happen any time soon  pinola called his decision last month to withdraw his ...</td>\n",
       "    </tr>\n",
       "    <tr>\n",
       "      <th>1648</th>\n",
       "      <td>1648</td>\n",
       "      <td>KODAK &amp; lt ; EK &gt; BUYS STAKE IN BIOTECHNOLOGY COMPANY Eastman Kodak Co said it has reached an agreement to acquire new stock representing a 16 pct interest in industrial biotechnology company &amp; lt ; Genencor Inc &gt; for undisclosed terms . Other Genencor shareholders include Staley Continental Inc &amp; lt ; STA &gt;, Corning Glass Works &amp; lt ; GLW &gt; and Genentech Inc &amp; lt ; GENE &gt;. The company said it has been granted options to increase its equity stake during 1987 . It said it has agreed to make a multiyear , multimillion dollar commitment to Genecor research products related to food additivies and pharmaceutical intermediates .</td>\n",
       "      <td>kodak  lt  ek  buys stake in biotechnology company eastman kodak co said it has reached an agreement to acquire new stock representing a 16 pct interest in industrial biotechnology company  lt  genencor inc  for undisclosed terms  other genencor shareholders include staley continental inc  lt  sta  corning glass works  lt  glw  and genentech inc  lt  gene  the company said it has been granted options to increase its equity stake during 1987  it said it has agreed to make a multiyear  multimillion dollar commitment to genecor research products related to food additivies and pharmaceutical intermediates</td>\n",
       "    </tr>\n",
       "  </tbody>\n",
       "</table>\n",
       "<p>1649 rows × 3 columns</p>\n",
       "</div>"
      ],
      "text/plain": [
       "      index  \\\n",
       "0         0   \n",
       "1         1   \n",
       "2         2   \n",
       "3         3   \n",
       "4         4   \n",
       "...     ...   \n",
       "1644   1644   \n",
       "1645   1645   \n",
       "1646   1646   \n",
       "1647   1647   \n",
       "1648   1648   \n",
       "\n",
       "                                                                                                                                                                                                                                                                                                                                                                                                                                                                                                                                                                                                                                                                                                                                                                                                                                                                                                                                                                                                                                                                                                                                                                                                                                                                                                                                                                                                                                                                                                                                                                                                                                                                                                                                                                                                                                                                                                                                                                                                                                                                                 docs  \\\n",
       "0                                                                                                                                                                                                                                                                                                                                                                                                                                                                                                                                                                                                                                                                      COMPUTER TERMINAL SYSTEMS & lt ; CPML > COMPLETES SALE Computer Terminal Systems Inc said it has completed the sale of 200 , 000 shares of its common stock , and warrants to acquire an additional one mln shares , to & lt ; Sedio N . V .> of Lugano , Switzerland for 50 , 000 dlrs . The company said the warrants are exercisable for five years at a purchase price of . 125 dlrs per share . Computer Terminal said Sedio also has the right to buy additional shares and increase its total holdings up to 40 pct of the Computer Terminal ' s outstanding common stock under certain circumstances involving change of control at the company . The company said if the conditions occur the warrants would be exercisable at a price equal to 75 pct of its common stock ' s market price at the time , not to exceed 1 . 50 dlrs per share . Computer Terminal also said it sold the technolgy rights to its Dot Matrix impact technology , including any future improvements , to & lt ; Woodco Inc > of Houston , Tex . for 200 , 000 dlrs . But , it said it would continue to be the exclusive worldwide licensee of the technology for Woodco . The company said the moves were part of its reorganization plan and would help pay current operation costs and ensure product delivery . Computer Terminal makes computer generated labels , forms , tags and ticket printers and terminals .   \n",
       "1                                                                                                                                                                                                                                                                                                                                                                                                                                                                                                                                                                                                                                                                                                                                                                                                                                                                                                                                                                                                                                                                                                                                                                                                                                                           NATIONAL AMUSEMENTS AGAIN UPS VIACOM & lt ; VIA > BID Viacom International Inc said & lt ; National Amusements Inc > has again raised the value of its offer for Viacom ' s publicly held stock . The company said the special committee of its board plans to meet later today to consider this offer and the one submitted March one by & lt ; MCV Holdings Inc >. A spokeswoman was unable to say if the committee met as planned yesterday . Viacom said National Amusements ' Arsenal Holdings Inc subsidiary has raised the amount of cash it is offering for each Viacom share by 75 cts to 42 . 75 dlrs while the value of the fraction of a share of exchangeable Arsenal Holdings preferred to be included was raised 25 cts to 7 . 75 dlrs . National Amusements already owns 19 . 6 pct of Viacom ' s stock .   \n",
       "2                                                                                                                                                                                                                                                                                                                                                                                                                                                                                                                                                                                                                                                                                                                   U . K . GROWING IMPATIENT WITH JAPAN - THATCHER Prime Minister Margaret Thatcher said the U . K . Was growing more impatient with Japanese trade barriers and warned that it would soon have new powers against countries not offering reciprocal access to their markets . She told Parliament that the bid by the U . K .' s Cable and Wireless Plc & lt ; CAWL . L > to enter the Japanese telecommunications market was being regarded by her government as a test case . \" I wrote to the prime minister of Japan , Mr Nakasone , on the fourth of March to express our interest on the Cable and Wireless bid . I have not yet had a reply . We see this as a test on how open the Japanese market really is ,\" Thatcher said . Thatcher told Parliament that \" shortly ... We shall have more powers than we have now , when , for example the powers under the Financial Services Act and the Banking Act become available , then we shall be able to take action in cases where other countries do not offer the same full access to financial services as we do .\" Cable and Wireless is seeking a stake in the proposed Japanese telecommunications rival to Kokusai Denshin Denwa . But the Japanese minister for post and telecommunications was reported as saying that he opposed Cable and Wireless having a managerial role in the new company .   \n",
       "3                                                                                                                                                                                                                                                                                                                                                                                                                                                                                                                                                                                                                                                                                                                                                                                                                                                                                                                                                                                                                                                                                                                                                                                                                                                                                                                                                                                                                                                                                                                                                                                                                            GOULD & lt ; GLD > COMPLETES SALE OF FRENCH BATTERY UNIT Gould Inc said it has completed the sale of its French battery business , Compagnie Francaise D ' Electro Chimie , to a group of investors including the unit ' s employees and & lt ; GNB Inc > of Minnesota . Gould did not disclose terms of the deal . Gould said the move is part of its previously announced plan to divest assets unrelated to its computer and electronics businesses .   \n",
       "4                                                                                                                                                                                                                                                                                                                                                                                                                                                                                                                                                                                                                                                                                                                                                                                                                                                                                                                                                                                                                                                                                                                                                                                                                                                                                                                                                                                                                                                                                                          FIRST WISCONSIN & lt ; FWB > TO BUY MINNESOTA BANK First Wisconsin Corp said it plans to acquire Shelard Bancshares Inc for about 25 mln dlrs in cash , its first acquisition of a Minnesota - based bank . First Wisconsin said Shelard is the holding company for two banks with total assets of 168 mln dlrs . First Wisconsin , which had assets at yearend of 7 . 1 billion dlrs , said the Shelard purchase price is about 12 times the 1986 earnings of the bank . It said the two Shelard banks have a total of five offices in the Minneapolis - St . Paul area .   \n",
       "...                                                                                                                                                                                                                                                                                                                                                                                                                                                                                                                                                                                                                                                                                                                                                                                                                                                                                                                                                                                                                                                                                                                                                                                                                                                                                                                                                                                                                                                                                                                                                                                                                                                                                                                                                                                                                                                                                                                                                                                                                                                                               ...   \n",
       "1644                                                                                                                                                                                                                                                                                                                                                                                                                                                                                                                                                                                                                                                                                                                                                                                                                                                                                                                                                                                                                                                                                  USAIR & lt ; U > CLEARED TO BUY PIEDMONT & lt ; PIE > SHARES USAir Group Inc said the U . S . Department of Transportation has issued an order allowing it to purchase and hold in a voting trust the 9 , 309 , 394 Piedmont Aviation Inc shares USAir is seeking in its current 69 dlr per share tender offer . The company said the new order supersedes an order issued by the department last Friday that would have required USAir to sell within one week of expiration of the tender any Piedmont shares it held in excess of 51 pct of the Piedmont stock then outstanding . The company said the 9 , 309 , 394 Piedmont shares , together with the 2 , 292 , 599 Piedmont shares already owned by USAir , constitute about 50 . 1 pct of Piedmont ' s shares on a fully - diluted basius but about 61 . 0 pct of shares currently outstanding . The shares are to be held in a voting trust pending the department ' s review of USAir ' s application to obtain control of Piedmont .   \n",
       "1645                                                                                                                                                                                                                                                                                                                                                                                                                                                                                                                                                                                                                                                                                                                                                                                                                                                                                                                                                                                                                                                                                                                                                                                                                                                                                                                                                                                                                             FOREIGN FIRMS HOPE TO JOIN JAPAN TELECOM COMPANY President Nobuo Ito of International Telecom Japan Inc ( ITJ ), one of two rival firms seeking to enter Japan ' s international telecommunications market , said it will offer a stake in the company to 10 foreign firms . But he declined to specify what share the firms would take , and told Reuters they would not participate in its management . ITJ and International Digital Communications Planning Inc ( IDC ), in which both Cable and Wireless Plc and Pacific Telesis Group own 20 pct stakes , are set to merge into a new entity to compete against Kokusai Denshin Denwa Co Ltd .   \n",
       "1646                                                                                                                                                                                                                                                                                                                                                                                                                                                                                                                                                                                                                                                                                                                                                                                                                                                                                                                                                                                                                                                                                                                                                                                                                                                                                                                                                                                                                                                         SIEMENS RAISES STAKE IN TELECOM PLUS OF U . S . Siemens AG ' s & lt ; SIEG . F > fully - owned subsidiary Siemens Informations Systems Inc . Has raised its stake in & lt ; Telecom Plus Communications Inc .> by 65 pct to 100 pct , a Siemens spokesman said . He added that Telecom Plus Communications was the largest independent supplier of telephone exchange systems in the U . S . And had turnover of 234 mln dlrs in 1986 . The stake had been acquired from Telecom Plus International Inc . The spokesman declined to comment on U . S . Newspaper reports that the purchase price totalled 173 mln dlrs .   \n",
       "1647  FIRST INTERSTATE SEEKS ACQUISITION Less than two months after First Interstate Bancorp withdrew its bold attempt to buy BankAmerica Corp , Chairman Joseph Pinola is still looking for a good buy , but he is also looking at ways to avoid being bought . In a wide - ranging interview , Pinola said he ' s looking for ways to improve profitability and capital between now and 1991 , \" so as to resist any potential look at us ... to maintain our independence , if possible .\" In 1991 federal regulatory changes will allow the major East Coast banks to buy banks in California . First Interstate , the fourth largest California bank , and the nineth largest nationwide , owns 24 banks in 12 western states and has franchise operations in four additional states . Bank industry sources say it is an attractive target for large U . S . or foreign banks , looking to quickly move into the lucrative California market and the West Coast region . While declining specifics on his corporate strategy , when asked if acquisitions will be part of the plan , Pinola replied , \" That ' s undoubtedly a fair statement ... it would be almost naive not to think that .\" Pinola characterized his acquisition strategy as \" opportunistic \". He said he will look for banks in management trouble that he can get at a bargain , then add management to restore profitability , or for banks in states where First Interstate already operates , then cut costs by combining resources . The exception , he said , would be Texas , where he said most of the banks are already well managed , but might be purchased at a discount because of the depressed regional economy . Pinola declined comment on what circumstances might move him to rekindle his bid for BankAmerica , saying only , \" We continue to monitor and look at a lot of things and a lot of people continue to monitor and look at us .\" Banking analysts , however , consider another First Interstate bid at BankAmerica a long shot , not likely to happen any time soon . ...   \n",
       "1648                                                                                                                                                                                                                                                                                                                                                                                                                                                                                                                                                                                                                                                                                                                                                                                                                                                                                                                                                                                                                                                                                                                                                                                                                                                                                                                                                                                                                           KODAK & lt ; EK > BUYS STAKE IN BIOTECHNOLOGY COMPANY Eastman Kodak Co said it has reached an agreement to acquire new stock representing a 16 pct interest in industrial biotechnology company & lt ; Genencor Inc > for undisclosed terms . Other Genencor shareholders include Staley Continental Inc & lt ; STA >, Corning Glass Works & lt ; GLW > and Genentech Inc & lt ; GENE >. The company said it has been granted options to increase its equity stake during 1987 . It said it has agreed to make a multiyear , multimillion dollar commitment to Genecor research products related to food additivies and pharmaceutical intermediates .   \n",
       "\n",
       "                                                                                                                                                                                                                                                                                                                                                                                                                                                                                                                                                                                                                                                                                                                                                                                                                                                                                                                                                                                                                                                                                                                                                                                                                                                                                                                                                                                                                                                                                                                                                                                                                                                                                                                                                                                                                                                                                                                                                                                                                                                                       processed_docs  \n",
       "0                                                                                                                                                                                                                                                                                                                                                                                                                                                                                                                                                                                                                                                                                                           computer terminal systems  lt  cpml  completes sale computer terminal systems inc said it has completed the sale of 200  000 shares of its common stock  and warrants to acquire an additional one mln shares  to  lt  sedio n  v  of lugano  switzerland for 50  000 dlrs  the company said the warrants are exercisable for five years at a purchase price of  125 dlrs per share  computer terminal said sedio also has the right to buy additional shares and increase its total holdings up to 40 pct of the computer terminal  s outstanding common stock under certain circumstances involving change of control at the company  the company said if the conditions occur the warrants would be exercisable at a price equal to 75 pct of its common stock  s market price at the time  not to exceed 1  50 dlrs per share  computer terminal also said it sold the technolgy rights to its dot matrix impact technology  including any future improvements  to  lt  woodco inc  of houston  tex  for 200  000 dlrs  but  it said it would continue to be the exclusive worldwide licensee of the technology for woodco  the company said the moves were part of its reorganization plan and would help pay current operation costs and ensure product delivery  computer terminal makes computer generated labels  forms  tags and ticket printers and terminals   \n",
       "1                                                                                                                                                                                                                                                                                                                                                                                                                                                                                                                                                                                                                                                                                                                                                                                                                                                                                                                                                                                                                                                                                                                                                                                                                                                                               national amusements again ups viacom  lt  via  bid viacom international inc said  lt  national amusements inc  has again raised the value of its offer for viacom  s publicly held stock  the company said the special committee of its board plans to meet later today to consider this offer and the one submitted march one by  lt  mcv holdings inc  a spokeswoman was unable to say if the committee met as planned yesterday  viacom said national amusements  arsenal holdings inc subsidiary has raised the amount of cash it is offering for each viacom share by 75 cts to 42  75 dlrs while the value of the fraction of a share of exchangeable arsenal holdings preferred to be included was raised 25 cts to 7  75 dlrs  national amusements already owns 19  6 pct of viacom  s stock   \n",
       "2                                                                                                                                                                                                                                                                                                                                                                                                                                                                                                                                                                                                                                                                                                                                                    u  k  growing impatient with japan  thatcher prime minister margaret thatcher said the u  k  was growing more impatient with japanese trade barriers and warned that it would soon have new powers against countries not offering reciprocal access to their markets  she told parliament that the bid by the u  k  s cable and wireless plc  lt  cawl  l  to enter the japanese telecommunications market was being regarded by her government as a test case   i wrote to the prime minister of japan  mr nakasone  on the fourth of march to express our interest on the cable and wireless bid  i have not yet had a reply  we see this as a test on how open the japanese market really is  thatcher said  thatcher told parliament that  shortly  we shall have more powers than we have now  when  for example the powers under the financial services act and the banking act become available  then we shall be able to take action in cases where other countries do not offer the same full access to financial services as we do  cable and wireless is seeking a stake in the proposed japanese telecommunications rival to kokusai denshin denwa  but the japanese minister for post and telecommunications was reported as saying that he opposed cable and wireless having a managerial role in the new company   \n",
       "3                                                                                                                                                                                                                                                                                                                                                                                                                                                                                                                                                                                                                                                                                                                                                                                                                                                                                                                                                                                                                                                                                                                                                                                                                                                                                                                                                                                                                                                                                                                                                                                                                                         gould  lt  gld  completes sale of french battery unit gould inc said it has completed the sale of its french battery business  compagnie francaise d  electro chimie  to a group of investors including the unit  s employees and  lt  gnb inc  of minnesota  gould did not disclose terms of the deal  gould said the move is part of its previously announced plan to divest assets unrelated to its computer and electronics businesses   \n",
       "4                                                                                                                                                                                                                                                                                                                                                                                                                                                                                                                                                                                                                                                                                                                                                                                                                                                                                                                                                                                                                                                                                                                                                                                                                                                                                                                                                                                                                                                                                                                        first wisconsin  lt  fwb  to buy minnesota bank first wisconsin corp said it plans to acquire shelard bancshares inc for about 25 mln dlrs in cash  its first acquisition of a minnesota  based bank  first wisconsin said shelard is the holding company for two banks with total assets of 168 mln dlrs  first wisconsin  which had assets at yearend of 7  1 billion dlrs  said the shelard purchase price is about 12 times the 1986 earnings of the bank  it said the two shelard banks have a total of five offices in the minneapolis  st  paul area   \n",
       "...                                                                                                                                                                                                                                                                                                                                                                                                                                                                                                                                                                                                                                                                                                                                                                                                                                                                                                                                                                                                                                                                                                                                                                                                                                                                                                                                                                                                                                                                                                                                                                                                                                                                                                                                                                                                                                                                                                                                                                                                                                                                               ...  \n",
       "1644                                                                                                                                                                                                                                                                                                                                                                                                                                                                                                                                                                                                                                                                                                                                                                                                                                                                                                                                                                                                                                                                                                            usair  lt  u  cleared to buy piedmont  lt  pie  shares usair group inc said the u  s  department of transportation has issued an order allowing it to purchase and hold in a voting trust the 9  309  394 piedmont aviation inc shares usair is seeking in its current 69 dlr per share tender offer  the company said the new order supersedes an order issued by the department last friday that would have required usair to sell within one week of expiration of the tender any piedmont shares it held in excess of 51 pct of the piedmont stock then outstanding  the company said the 9  309  394 piedmont shares  together with the 2  292  599 piedmont shares already owned by usair  constitute about 50  1 pct of piedmont  s shares on a fully  diluted basius but about 61  0 pct of shares currently outstanding  the shares are to be held in a voting trust pending the department  s review of usair  s application to obtain control of piedmont   \n",
       "1645                                                                                                                                                                                                                                                                                                                                                                                                                                                                                                                                                                                                                                                                                                                                                                                                                                                                                                                                                                                                                                                                                                                                                                                                                                                                                                                                                                                                                                          foreign firms hope to join japan telecom company president nobuo ito of international telecom japan inc  itj  one of two rival firms seeking to enter japan  s international telecommunications market  said it will offer a stake in the company to 10 foreign firms  but he declined to specify what share the firms would take  and told reuters they would not participate in its management  itj and international digital communications planning inc  idc  in which both cable and wireless plc and pacific telesis group own 20 pct stakes  are set to merge into a new entity to compete against kokusai denshin denwa co ltd   \n",
       "1646                                                                                                                                                                                                                                                                                                                                                                                                                                                                                                                                                                                                                                                                                                                                                                                                                                                                                                                                                                                                                                                                                                                                                                                                                                                                                                                                                                                                                                                                               siemens raises stake in telecom plus of u  s  siemens ag  s  lt  sieg  f  fully  owned subsidiary siemens informations systems inc  has raised its stake in  lt  telecom plus communications inc  by 65 pct to 100 pct  a siemens spokesman said  he added that telecom plus communications was the largest independent supplier of telephone exchange systems in the u  s  and had turnover of 234 mln dlrs in 1986  the stake had been acquired from telecom plus international inc  the spokesman declined to comment on u  s  newspaper reports that the purchase price totalled 173 mln dlrs   \n",
       "1647  first interstate seeks acquisition less than two months after first interstate bancorp withdrew its bold attempt to buy bankamerica corp  chairman joseph pinola is still looking for a good buy  but he is also looking at ways to avoid being bought  in a wide  ranging interview  pinola said he  s looking for ways to improve profitability and capital between now and 1991   so as to resist any potential look at us  to maintain our independence  if possible  in 1991 federal regulatory changes will allow the major east coast banks to buy banks in california  first interstate  the fourth largest california bank  and the nineth largest nationwide  owns 24 banks in 12 western states and has franchise operations in four additional states  bank industry sources say it is an attractive target for large u  s  or foreign banks  looking to quickly move into the lucrative california market and the west coast region  while declining specifics on his corporate strategy  when asked if acquisitions will be part of the plan  pinola replied   that  s undoubtedly a fair statement  it would be almost naive not to think that  pinola characterized his acquisition strategy as  opportunistic  he said he will look for banks in management trouble that he can get at a bargain  then add management to restore profitability  or for banks in states where first interstate already operates  then cut costs by combining resources  the exception  he said  would be texas  where he said most of the banks are already well managed  but might be purchased at a discount because of the depressed regional economy  pinola declined comment on what circumstances might move him to rekindle his bid for bankamerica  saying only   we continue to monitor and look at a lot of things and a lot of people continue to monitor and look at us  banking analysts  however  consider another first interstate bid at bankamerica a long shot  not likely to happen any time soon  pinola called his decision last month to withdraw his ...  \n",
       "1648                                                                                                                                                                                                                                                                                                                                                                                                                                                                                                                                                                                                                                                                                                                                                                                                                                                                                                                                                                                                                                                                                                                                                                                                                                                                                                                                                                                                                                                kodak  lt  ek  buys stake in biotechnology company eastman kodak co said it has reached an agreement to acquire new stock representing a 16 pct interest in industrial biotechnology company  lt  genencor inc  for undisclosed terms  other genencor shareholders include staley continental inc  lt  sta  corning glass works  lt  glw  and genentech inc  lt  gene  the company said it has been granted options to increase its equity stake during 1987  it said it has agreed to make a multiyear  multimillion dollar commitment to genecor research products related to food additivies and pharmaceutical intermediates   \n",
       "\n",
       "[1649 rows x 3 columns]"
      ]
     },
     "execution_count": 7,
     "metadata": {},
     "output_type": "execute_result"
    }
   ],
   "source": [
    "START_OF_LINE = \"^\"\n",
    "OPTIONAL = \"?\"\n",
    "ANYTHING = \".\"\n",
    "ZERO_OR_MORE = \"*\"\n",
    "ONE_OR_MORE = \"+\"\n",
    "\n",
    "SPACE = \"\\s\"\n",
    "ATSIGN = '@\\w+' #looking for any string which starts with @\n",
    "PUNCTUATION = '[^\\w\\s]' #^=not, \\w=alphanumeric character, \\s=space\n",
    "SPACES = SPACE + ONE_OR_MORE\n",
    "NOT_SPACE = \"[^\\s]\" + ONE_OR_MORE\n",
    "EVERYTHING_OR_NOTHING = ANYTHING + ZERO_OR_MORE\n",
    "ERASE = \"\"\n",
    "FORWARD_SLASH = \"\\/\"\n",
    "NEWLINES = \"[\\r\\n]\"\n",
    "RE_TWEET = START_OF_LINE + \"rt\" + SPACES\n",
    "HASH = \"#\\w+\"\n",
    "HYPERLINKS = (\"http\" + \"s\" + OPTIONAL + \":\" + FORWARD_SLASH + FORWARD_SLASH + NOT_SPACE + NEWLINES + ZERO_OR_MORE)\n",
    "\n",
    "#replace the regular expression patterns with nothing (i.e., remove them)\n",
    "df['processed_docs'] = df['docs'].str.lower()\n",
    "#focus on the processed_tweets column and then apply the RE operation on each row\n",
    "#apply(lambda ...) is applying an operation on each row \n",
    "df['processed_docs'] = df['processed_docs'].apply(lambda x: re.sub(RE_TWEET, ERASE, x))\n",
    "df['processed_docs'] = df['processed_docs'].apply(lambda x: re.sub(HYPERLINKS, ERASE, x))\n",
    "df['processed_docs'] = df['processed_docs'].apply(lambda x: re.sub(HASH, ERASE, x))\n",
    "df['processed_docs'] = df['processed_docs'].apply(lambda x: re.sub(ATSIGN, ERASE, x))\n",
    "df['processed_docs'] = df['processed_docs'].apply(lambda x: re.sub(PUNCTUATION, ERASE, x))\n",
    "df['processed_docs'] = df['processed_docs'].apply(lambda x: re.sub('\\n', ' ', x))\n",
    "\n",
    "df"
   ]
  },
  {
   "cell_type": "code",
   "execution_count": 8,
   "id": "1ba3c626",
   "metadata": {},
   "outputs": [
    {
     "data": {
      "text/plain": [
       "'national amusements again ups viacom  lt  via  bid viacom international inc said  lt  national amusements inc  has again raised the value of its offer for viacom  s publicly held stock  the company said the special committee of its board plans to meet later today to consider this offer and the one submitted march one by  lt  mcv holdings inc  a spokeswoman was unable to say if the committee met as planned yesterday  viacom said national amusements  arsenal holdings inc subsidiary has raised the amount of cash it is offering for each viacom share by 75 cts to 42  75 dlrs while the value of the fraction of a share of exchangeable arsenal holdings preferred to be included was raised 25 cts to 7  75 dlrs  national amusements already owns 19  6 pct of viacom  s stock '"
      ]
     },
     "execution_count": 8,
     "metadata": {},
     "output_type": "execute_result"
    }
   ],
   "source": [
    "df.iloc[1][2]"
   ]
  },
  {
   "cell_type": "markdown",
   "id": "40f51e4c",
   "metadata": {},
   "source": [
    "**1.A histogram showing the distribution of word lengths"
   ]
  },
  {
   "cell_type": "code",
   "execution_count": 9,
   "id": "c2ed50b5",
   "metadata": {},
   "outputs": [],
   "source": [
    "word_length = ' '.join(df['processed_docs'])\n",
    "pseries=pd.Series(word_length.split()).value_counts()[:50]"
   ]
  },
  {
   "cell_type": "code",
   "execution_count": 10,
   "id": "72f18541",
   "metadata": {},
   "outputs": [
    {
     "data": {
      "text/plain": [
       "the            10364\n",
       "of              6863\n",
       "to              6125\n",
       "said            5000\n",
       "a               4623\n",
       "and             4428\n",
       "in              3973\n",
       "it              3321\n",
       "lt              2784\n",
       "for             2421\n",
       "s               2407\n",
       "its             2025\n",
       "dlrs            2009\n",
       "company         1651\n",
       "mln             1638\n",
       "inc             1448\n",
       "shares          1425\n",
       "is              1415\n",
       "pct             1399\n",
       "has             1291\n",
       "on              1227\n",
       "that            1187\n",
       "with            1166\n",
       "be              1158\n",
       "by              1158\n",
       "corp            1158\n",
       "will            1100\n",
       "offer            971\n",
       "an               936\n",
       "from             883\n",
       "at               878\n",
       "share            862\n",
       "would            834\n",
       "stock            832\n",
       "group            825\n",
       "not              795\n",
       "was              779\n",
       "which            709\n",
       "or               688\n",
       "as               683\n",
       "he               637\n",
       "stake            617\n",
       "about            615\n",
       "co               609\n",
       "had              575\n",
       "acquisition      562\n",
       "merger           553\n",
       "1                541\n",
       "also             533\n",
       "u                522\n",
       "dtype: int64"
      ]
     },
     "execution_count": 10,
     "metadata": {},
     "output_type": "execute_result"
    }
   ],
   "source": [
    "pseries"
   ]
  },
  {
   "cell_type": "code",
   "execution_count": 11,
   "id": "37a52d96",
   "metadata": {},
   "outputs": [
    {
     "data": {
      "image/png": "[encoded data removed]",
      "text/plain": [
       "<Figure size 432x288 with 1 Axes>"
      ]
     },
     "metadata": {
      "needs_background": "light"
     },
     "output_type": "display_data"
    }
   ],
   "source": [
    "word_len = list(map(len, word_length.split()))\n",
    "bins = np.arange(0, max(word_len), 1)\n",
    "plt.hist(word_len, bins)\n",
    "plt.xticks(range(0,max(word_len),1))\n",
    "plt.show() "
   ]
  },
  {
   "cell_type": "markdown",
   "id": "8889c6fa",
   "metadata": {},
   "source": [
    "**2. A histogram showing the distribution of sentence lengths."
   ]
  },
  {
   "cell_type": "code",
   "execution_count": 12,
   "id": "b9b7d31f",
   "metadata": {},
   "outputs": [
    {
     "data": {
      "text/html": [
       "<div>\n",
       "<style scoped>\n",
       "    .dataframe tbody tr th:only-of-type {\n",
       "        vertical-align: middle;\n",
       "    }\n",
       "\n",
       "    .dataframe tbody tr th {\n",
       "        vertical-align: top;\n",
       "    }\n",
       "\n",
       "    .dataframe thead th {\n",
       "        text-align: right;\n",
       "    }\n",
       "</style>\n",
       "<table border=\"1\" class=\"dataframe\">\n",
       "  <thead>\n",
       "    <tr style=\"text-align: right;\">\n",
       "      <th></th>\n",
       "      <th>processed_docs</th>\n",
       "      <th>sentence_length</th>\n",
       "    </tr>\n",
       "  </thead>\n",
       "  <tbody>\n",
       "    <tr>\n",
       "      <th>0</th>\n",
       "      <td>computer terminal systems  lt  cpml  completes sale computer terminal systems inc said it has completed the sale of 200  000 shares of its common stock  and warrants to acquire an additional one mln shares  to  lt  sedio n  v  of lugano  switzerland for 50  000 dlrs  the company said the warrants are exercisable for five years at a purchase price of  125 dlrs per share  computer terminal said sedio also has the right to buy additional shares and increase its total holdings up to 40 pct of the computer terminal  s outstanding common stock under certain circumstances involving change of control at the company  the company said if the conditions occur the warrants would be exercisable at a price equal to 75 pct of its common stock  s market price at the time  not to exceed 1  50 dlrs per share  computer terminal also said it sold the technolgy rights to its dot matrix impact technology  including any future improvements  to  lt  woodco inc  of houston  tex  for 200  000 dlrs  but  it said it would continue to be the exclusive worldwide licensee of the technology for woodco  the company said the moves were part of its reorganization plan and would help pay current operation costs and ensure product delivery  computer terminal makes computer generated labels  forms  tags and ticket printers and terminals</td>\n",
       "      <td>1321</td>\n",
       "    </tr>\n",
       "    <tr>\n",
       "      <th>1</th>\n",
       "      <td>national amusements again ups viacom  lt  via  bid viacom international inc said  lt  national amusements inc  has again raised the value of its offer for viacom  s publicly held stock  the company said the special committee of its board plans to meet later today to consider this offer and the one submitted march one by  lt  mcv holdings inc  a spokeswoman was unable to say if the committee met as planned yesterday  viacom said national amusements  arsenal holdings inc subsidiary has raised the amount of cash it is offering for each viacom share by 75 cts to 42  75 dlrs while the value of the fraction of a share of exchangeable arsenal holdings preferred to be included was raised 25 cts to 7  75 dlrs  national amusements already owns 19  6 pct of viacom  s stock</td>\n",
       "      <td>773</td>\n",
       "    </tr>\n",
       "    <tr>\n",
       "      <th>2</th>\n",
       "      <td>u  k  growing impatient with japan  thatcher prime minister margaret thatcher said the u  k  was growing more impatient with japanese trade barriers and warned that it would soon have new powers against countries not offering reciprocal access to their markets  she told parliament that the bid by the u  k  s cable and wireless plc  lt  cawl  l  to enter the japanese telecommunications market was being regarded by her government as a test case   i wrote to the prime minister of japan  mr nakasone  on the fourth of march to express our interest on the cable and wireless bid  i have not yet had a reply  we see this as a test on how open the japanese market really is  thatcher said  thatcher told parliament that  shortly  we shall have more powers than we have now  when  for example the powers under the financial services act and the banking act become available  then we shall be able to take action in cases where other countries do not offer the same full access to financial services as we do  cable and wireless is seeking a stake in the proposed japanese telecommunications rival to kokusai denshin denwa  but the japanese minister for post and telecommunications was reported as saying that he opposed cable and wireless having a managerial role in the new company</td>\n",
       "      <td>1280</td>\n",
       "    </tr>\n",
       "    <tr>\n",
       "      <th>3</th>\n",
       "      <td>gould  lt  gld  completes sale of french battery unit gould inc said it has completed the sale of its french battery business  compagnie francaise d  electro chimie  to a group of investors including the unit  s employees and  lt  gnb inc  of minnesota  gould did not disclose terms of the deal  gould said the move is part of its previously announced plan to divest assets unrelated to its computer and electronics businesses</td>\n",
       "      <td>427</td>\n",
       "    </tr>\n",
       "    <tr>\n",
       "      <th>4</th>\n",
       "      <td>first wisconsin  lt  fwb  to buy minnesota bank first wisconsin corp said it plans to acquire shelard bancshares inc for about 25 mln dlrs in cash  its first acquisition of a minnesota  based bank  first wisconsin said shelard is the holding company for two banks with total assets of 168 mln dlrs  first wisconsin  which had assets at yearend of 7  1 billion dlrs  said the shelard purchase price is about 12 times the 1986 earnings of the bank  it said the two shelard banks have a total of five offices in the minneapolis  st  paul area</td>\n",
       "      <td>540</td>\n",
       "    </tr>\n",
       "  </tbody>\n",
       "</table>\n",
       "</div>"
      ],
      "text/plain": [
       "                                                                                                                                                                                                                                                                                                                                                                                                                                                                                                                                                                                                                                                                                                                                                                                                                                                                                                                                                                                                                                                                                                                                                                                                                                                                                                                                                              processed_docs  \\\n",
       "0  computer terminal systems  lt  cpml  completes sale computer terminal systems inc said it has completed the sale of 200  000 shares of its common stock  and warrants to acquire an additional one mln shares  to  lt  sedio n  v  of lugano  switzerland for 50  000 dlrs  the company said the warrants are exercisable for five years at a purchase price of  125 dlrs per share  computer terminal said sedio also has the right to buy additional shares and increase its total holdings up to 40 pct of the computer terminal  s outstanding common stock under certain circumstances involving change of control at the company  the company said if the conditions occur the warrants would be exercisable at a price equal to 75 pct of its common stock  s market price at the time  not to exceed 1  50 dlrs per share  computer terminal also said it sold the technolgy rights to its dot matrix impact technology  including any future improvements  to  lt  woodco inc  of houston  tex  for 200  000 dlrs  but  it said it would continue to be the exclusive worldwide licensee of the technology for woodco  the company said the moves were part of its reorganization plan and would help pay current operation costs and ensure product delivery  computer terminal makes computer generated labels  forms  tags and ticket printers and terminals    \n",
       "1                                                                                                                                                                                                                                                                                                                                                                                                                                                                                                                                                                      national amusements again ups viacom  lt  via  bid viacom international inc said  lt  national amusements inc  has again raised the value of its offer for viacom  s publicly held stock  the company said the special committee of its board plans to meet later today to consider this offer and the one submitted march one by  lt  mcv holdings inc  a spokeswoman was unable to say if the committee met as planned yesterday  viacom said national amusements  arsenal holdings inc subsidiary has raised the amount of cash it is offering for each viacom share by 75 cts to 42  75 dlrs while the value of the fraction of a share of exchangeable arsenal holdings preferred to be included was raised 25 cts to 7  75 dlrs  national amusements already owns 19  6 pct of viacom  s stock    \n",
       "2                                           u  k  growing impatient with japan  thatcher prime minister margaret thatcher said the u  k  was growing more impatient with japanese trade barriers and warned that it would soon have new powers against countries not offering reciprocal access to their markets  she told parliament that the bid by the u  k  s cable and wireless plc  lt  cawl  l  to enter the japanese telecommunications market was being regarded by her government as a test case   i wrote to the prime minister of japan  mr nakasone  on the fourth of march to express our interest on the cable and wireless bid  i have not yet had a reply  we see this as a test on how open the japanese market really is  thatcher said  thatcher told parliament that  shortly  we shall have more powers than we have now  when  for example the powers under the financial services act and the banking act become available  then we shall be able to take action in cases where other countries do not offer the same full access to financial services as we do  cable and wireless is seeking a stake in the proposed japanese telecommunications rival to kokusai denshin denwa  but the japanese minister for post and telecommunications was reported as saying that he opposed cable and wireless having a managerial role in the new company    \n",
       "3                                                                                                                                                                                                                                                                                                                                                                                                                                                                                                                                                                                                                                                                                                                                                                                                                                                                                                                                gould  lt  gld  completes sale of french battery unit gould inc said it has completed the sale of its french battery business  compagnie francaise d  electro chimie  to a group of investors including the unit  s employees and  lt  gnb inc  of minnesota  gould did not disclose terms of the deal  gould said the move is part of its previously announced plan to divest assets unrelated to its computer and electronics businesses    \n",
       "4                                                                                                                                                                                                                                                                                                                                                                                                                                                                                                                                                                                                                                                                                                                                                                                                               first wisconsin  lt  fwb  to buy minnesota bank first wisconsin corp said it plans to acquire shelard bancshares inc for about 25 mln dlrs in cash  its first acquisition of a minnesota  based bank  first wisconsin said shelard is the holding company for two banks with total assets of 168 mln dlrs  first wisconsin  which had assets at yearend of 7  1 billion dlrs  said the shelard purchase price is about 12 times the 1986 earnings of the bank  it said the two shelard banks have a total of five offices in the minneapolis  st  paul area    \n",
       "\n",
       "   sentence_length  \n",
       "0             1321  \n",
       "1              773  \n",
       "2             1280  \n",
       "3              427  \n",
       "4              540  "
      ]
     },
     "execution_count": 12,
     "metadata": {},
     "output_type": "execute_result"
    }
   ],
   "source": [
    "df['sentence_length'] = df['processed_docs'].str.len()\n",
    "df[['processed_docs','sentence_length']].head()"
   ]
  },
  {
   "cell_type": "code",
   "execution_count": 13,
   "id": "6fe00cc4",
   "metadata": {},
   "outputs": [
    {
     "data": {
      "text/plain": [
       "<AxesSubplot:ylabel='Frequency'>"
      ]
     },
     "execution_count": 13,
     "metadata": {},
     "output_type": "execute_result"
    },
    {
     "data": {
      "image/png": "[encoded data removed]",
      "text/plain": [
       "<Figure size 432x288 with 1 Axes>"
      ]
     },
     "metadata": {
      "needs_background": "light"
     },
     "output_type": "display_data"
    }
   ],
   "source": [
    "df['sentence_length'].plot(kind='hist',color='brown', bins=15)"
   ]
  },
  {
   "cell_type": "markdown",
   "id": "4d32c4d4",
   "metadata": {},
   "source": [
    "**3.Top frequent words before and after data preprocessing"
   ]
  },
  {
   "cell_type": "markdown",
   "id": "3164c498",
   "metadata": {},
   "source": [
    "**3.1 Before preprocessing"
   ]
  },
  {
   "cell_type": "code",
   "execution_count": 17,
   "id": "a9205d09",
   "metadata": {},
   "outputs": [
    {
     "data": {
      "text/plain": [
       "the     10364\n",
       "of       6863\n",
       "to       6125\n",
       "said     5000\n",
       "a        4623\n",
       "and      4428\n",
       "in       3973\n",
       "it       3321\n",
       "lt       2784\n",
       "for      2421\n",
       "dtype: int64"
      ]
     },
     "execution_count": 17,
     "metadata": {},
     "output_type": "execute_result"
    }
   ],
   "source": [
    "pd.Series(word_length.split()).value_counts()[:10]"
   ]
  },
  {
   "cell_type": "markdown",
   "id": "acacc997",
   "metadata": {},
   "source": [
    "**3.2. After preprocessing"
   ]
  },
  {
   "cell_type": "code",
   "execution_count": 21,
   "id": "a6c35076",
   "metadata": {},
   "outputs": [
    {
     "name": "stderr",
     "output_type": "stream",
     "text": [
      "[nltk_data] Downloading package stopwords to\n",
      "[nltk_data]     /Users/farazkhan/nltk_data...\n",
      "[nltk_data]   Package stopwords is already up-to-date!\n",
      "[nltk_data] Downloading package punkt to /Users/farazkhan/nltk_data...\n",
      "[nltk_data]   Package punkt is already up-to-date!\n"
     ]
    },
    {
     "name": "stdout",
     "output_type": "stream",
     "text": [
      "('said', 5000)\n",
      "('lt', 2784)\n",
      "('dlrs', 2009)\n",
      "('company', 1651)\n",
      "('mln', 1638)\n",
      "('inc', 1448)\n",
      "('shares', 1425)\n",
      "('pct', 1399)\n",
      "('corp', 1158)\n",
      "('offer', 971)\n"
     ]
    }
   ],
   "source": [
    "nltk.download('stopwords')\n",
    "nltk.download('punkt')\n",
    "\n",
    "stop_words = set(stopwords.words('english'))\n",
    "word_tokens = word_tokenize(word_length)\n",
    "\n",
    "filtered_sentence = []\n",
    "  \n",
    "for w in word_tokens:\n",
    "    if w not in stop_words:\n",
    "        filtered_sentence.append(w)\n",
    "\n",
    "c = Counter(filtered_sentence)\n",
    "for x in c.most_common(10):\n",
    "    print(x)"
   ]
  },
  {
   "cell_type": "markdown",
   "id": "7738b89b",
   "metadata": {},
   "source": [
    "**4. Top frequent pairs of words after pre-processing. These are pairs of words which\n",
    "appear together in sentences and are called bigrams."
   ]
  },
  {
   "cell_type": "code",
   "execution_count": 24,
   "id": "714ff422",
   "metadata": {},
   "outputs": [
    {
     "name": "stdout",
     "output_type": "stream",
     "text": [
      "(('mln', 'dlrs'), 982)\n",
      "(('company', 'said'), 470)\n",
      "(('inc', 'said'), 425)\n",
      "(('corp', 'said'), 311)\n",
      "(('dlrs', 'share'), 265)\n",
      "(('per', 'share'), 263)\n",
      "(('common', 'stock'), 222)\n",
      "(('tender', 'offer'), 220)\n",
      "(('corp', 'lt'), 195)\n",
      "(('inc', 'lt'), 190)\n"
     ]
    }
   ],
   "source": [
    "bigrams = Counter(list(nltk.bigrams(filtered_sentence)))\n",
    "for item in bigrams.most_common(10):\n",
    "    print(item)"
   ]
  },
  {
   "cell_type": "markdown",
   "id": "7a4c1863",
   "metadata": {},
   "source": [
    "**5. Top frequent tuples of words after pre-processing. Tuples are 3 words which\n",
    "appear together in sentences and are called trigrams."
   ]
  },
  {
   "cell_type": "code",
   "execution_count": 25,
   "id": "fda9a4e8",
   "metadata": {},
   "outputs": [
    {
     "name": "stdout",
     "output_type": "stream",
     "text": [
      "(('securities', 'exchange', 'commission'), 168)\n",
      "(('dlrs', 'per', 'share'), 151)\n",
      "(('filing', 'securities', 'exchange'), 78)\n",
      "(('pct', 'total', 'outstanding'), 74)\n",
      "(('mln', 'dlrs', 'cash'), 62)\n",
      "(('5', 'mln', 'dlrs'), 59)\n",
      "(('dlr', 'per', 'share'), 58)\n",
      "(('signed', 'letter', 'intent'), 54)\n",
      "(('told', 'securities', 'exchange'), 50)\n",
      "(('outstanding', 'common', 'stock'), 48)\n"
     ]
    }
   ],
   "source": [
    "trigrams = Counter(list(nltk.trigrams(filtered_sentence)))\n",
    "for item in trigrams.most_common(10):\n",
    "    print(item)"
   ]
  },
  {
   "cell_type": "code",
   "execution_count": null,
   "id": "ab529fdf",
   "metadata": {},
   "outputs": [],
   "source": []
  }
 ],
 "metadata": {
  "kernelspec": {
   "display_name": "Python 3 (ipykernel)",
   "language": "python",
   "name": "python3"
  },
  "language_info": {
   "codemirror_mode": {
    "name": "ipython",
    "version": 3
   },
   "file_extension": ".py",
   "mimetype": "text/x-python",
   "name": "python",
   "nbconvert_exporter": "python",
   "pygments_lexer": "ipython3",
   "version": "3.9.7"
  }
 },
 "nbformat": 4,
 "nbformat_minor": 5
}
